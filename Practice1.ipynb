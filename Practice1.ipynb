{
 "cells": [
  {
   "cell_type": "markdown",
   "metadata": {},
   "source": [
    "Practice : Source localization problem\n",
    "\n",
    "-> Given : N-locations a_1, a_2,...,a_N \\in R^m of seonsors and approximate distaces d_i between the sensors and an unknown \"source\" located at x \\in R^m:\n",
    "\n",
    "-> Goal : find and estimate x \\in R^m given the locations a_1,a_2,...,a_N and d_1,d_2,...,d_N\n",
    "\n",
    "-> optimization problem - a nonlinear least squares problem\n",
    "\n",
    "\\min_x f(x) \\equi \\sum_{i=1}^N(||x-a_i||_2^2 -d_i^2)^2\n",
    "\n",
    "calculation of \\nabla f(x) : \n",
    "    \\frac{\\part f}{\\part x_j}(x) = 4 \\sum_i=1^N (||x-a_i||_2^2-d_i^2)(x-a_i)"
   ]
  },
  {
   "cell_type": "code",
   "execution_count": 52,
   "metadata": {},
   "outputs": [],
   "source": [
    "import numpy as np\n",
    "import matplotlib.pyplot as plt"
   ]
  },
  {
   "cell_type": "code",
   "execution_count": 53,
   "metadata": {},
   "outputs": [],
   "source": [
    "N=5\n",
    "m=2\n",
    "step_size=0.01\n",
    "max_iter=5000\n",
    "\n",
    "#initialize\n",
    "a=np.zeros([N,m])\n",
    "d=np.zeros([N,1])\n",
    "\n",
    "#assign Given locations of sensors:\n",
    "a[0]=(0.5376,1.8338)\n",
    "a[1]=(-2.2588,0.8621)\n",
    "a[2]=(0.3187,-1.3076)\n",
    "a[3]=(-0.4335,0.3426)\n",
    "a[4]=(3.5783,2.7694)\n",
    "\n",
    "#assign Given approximate distances:\n",
    "d[0]=0.7124\n",
    "d[1]=3.0812\n",
    "d[2]=2.6806\n",
    "d[3]=1.7731\n",
    "d[4]=4.6621"
   ]
  },
  {
   "cell_type": "code",
   "execution_count": 104,
   "metadata": {},
   "outputs": [],
   "source": [
    "def cost(x,a,d,n):\n",
    "    return np.sum(((np.sum((x-a)**2,axis=1)).reshape(n,1)-d**2)**2)\n",
    "\n",
    "def derivative_cost(x,a,d,n):\n",
    "    return 4*np.sum(((np.sum((x-a)**2,axis=1).reshape(n,1)-d**2)*(x-a)))"
   ]
  },
  {
   "cell_type": "code",
   "execution_count": 105,
   "metadata": {},
   "outputs": [],
   "source": [
    "def GD_update(x_GD,a,d,N):\n",
    "    for i in range(max_iter):\n",
    "        x_GD -= 0.001 * derivative_cost(x_GD,a,d,N)\n",
    "        if i%100==0:\n",
    "            plt.scatter(i,cost(x_GD,a,d,N))\n",
    "    return x_GD"
   ]
  },
  {
   "cell_type": "code",
   "execution_count": 107,
   "metadata": {},
   "outputs": [
    {
     "data": {
      "text/plain": [
       "array([-0.07810879,  0.47349121])"
      ]
     },
     "execution_count": 107,
     "metadata": {},
     "output_type": "execute_result"
    },
    {
     "data": {
      "image/png": "[encoded data removed]",
      "text/plain": [
       "<Figure size 432x288 with 1 Axes>"
      ]
     },
     "metadata": {
      "needs_background": "light"
     },
     "output_type": "display_data"
    }
   ],
   "source": [
    "#Let x be a random initial value\n",
    "x_GD=np.mean(a,axis=0)\n",
    "GD_update(x_GD,a,d,N)"
   ]
  },
  {
   "cell_type": "code",
   "execution_count": 108,
   "metadata": {},
   "outputs": [],
   "source": [
    "def MGD_update(x_MGD,a,d,N):\n",
    "    Momentum =0.9\n",
    "    gamma=1\n",
    "    for i in range(max_iter):\n",
    "        gamma  = Momentum*gamma + 0.001*derivative_cost(x_MGD,a,d,N)\n",
    "        x_MGD -= gamma\n",
    "   \n",
    "        if i%100 ==0:\n",
    "            plt.scatter(i,cost(x_MGD,a,d,N))\n",
    "        \n",
    "    return x_MGD"
   ]
  },
  {
   "cell_type": "code",
   "execution_count": 109,
   "metadata": {},
   "outputs": [
    {
     "data": {
      "text/plain": [
       "array([-0.07810879,  0.47349121])"
      ]
     },
     "execution_count": 109,
     "metadata": {},
     "output_type": "execute_result"
    },
    {
     "data": {
      "image/png": "[encoded data removed]",
      "text/plain": [
       "<Figure size 432x288 with 1 Axes>"
      ]
     },
     "metadata": {
      "needs_background": "light"
     },
     "output_type": "display_data"
    }
   ],
   "source": [
    "x_MGD=np.mean(a,axis=0)\n",
    "MGD_update(x_MGD,a,d,N)"
   ]
  },
  {
   "cell_type": "code",
   "execution_count": 112,
   "metadata": {},
   "outputs": [],
   "source": [
    "def derivative_cost_SGD(x,a,d,n):\n",
    "    return 4*np.sum(((np.sum((x-a)**2).reshape(n,1)-d**2)*(x-a)))\n",
    "\n",
    "def SGD_update(x_SGD,a,d,N):\n",
    "    from itertools import permutations\n",
    "    n=2\n",
    "    perm = permutations(range(N),n)\n",
    "    p=list(perm)\n",
    "\n",
    "    for i in range(max_iter):\n",
    "        O=int(np.random.rand(1,1)*101)% len(p)\n",
    "        ind_1=p[O][0]\n",
    "        ind_2=p[O][1]\n",
    "    \n",
    "        x_SGD -= 0.001*derivative_cost_SGD(x_SGD,a[ind_1],d[ind_1],1)\n",
    "        x_SGD -= 0.001*derivative_cost_SGD(x_SGD,a[ind_2],d[ind_2],1)\n",
    "       \n",
    "        if i%100 ==0:\n",
    "            plt.scatter(i,cost(x_SGD,a,d,N))\n",
    "    return x_SGD"
   ]
  },
  {
   "cell_type": "code",
   "execution_count": 114,
   "metadata": {},
   "outputs": [
    {
     "data": {
      "text/plain": [
       "array([-0.04931717,  0.50228283])"
      ]
     },
     "execution_count": 114,
     "metadata": {},
     "output_type": "execute_result"
    },
    {
     "data": {
      "image/png": "[encoded data removed]",
      "text/plain": [
       "<Figure size 432x288 with 1 Axes>"
      ]
     },
     "metadata": {
      "needs_background": "light"
     },
     "output_type": "display_data"
    }
   ],
   "source": [
    "x_SGD=np.mean(a,axis=0)\n",
    "SGD_update(x_SGD,a,d,N)"
   ]
  },
  {
   "cell_type": "code",
   "execution_count": 117,
   "metadata": {},
   "outputs": [
    {
     "name": "stdout",
     "output_type": "stream",
     "text": [
      " GD result :  [-0.07810879  0.47349121]\n",
      "MGD result :  [-0.07810879  0.47349121]\n",
      "SGD result :  [-0.04931717  0.50228283]\n"
     ]
    },
    {
     "data": {
      "image/png": "[encoded data removed]",
      "text/plain": [
       "<Figure size 432x288 with 1 Axes>"
      ]
     },
     "metadata": {
      "needs_background": "light"
     },
     "output_type": "display_data"
    }
   ],
   "source": [
    "for i in range(N):\n",
    "    plt.scatter(a[i][0],a[i][1],color='r')\n",
    "\n",
    "plt.scatter(x_GD[0],x_GD[1],label='GD')\n",
    "plt.scatter(x_MGD[0],x_MGD[1],label='MGD')\n",
    "plt.scatter(x_SGD[0],x_SGD[1],label='SGD')\n",
    "\n",
    "plt.xlabel('R^1')\n",
    "plt.ylabel('R^2')\n",
    "plt.legend(loc='upper left')\n",
    "plt.title('point estimate')\n",
    "\n",
    "print(' GD result : ',x_GD)\n",
    "print('MGD result : ',x_MGD)\n",
    "print('SGD result : ',x_SGD)"
   ]
  },
  {
   "cell_type": "code",
   "execution_count": null,
   "metadata": {},
   "outputs": [],
   "source": []
  }
 ],
 "metadata": {
  "kernelspec": {
   "display_name": "Python 3",
   "language": "python",
   "name": "python3"
  },
  "language_info": {
   "codemirror_mode": {
    "name": "ipython",
    "version": 3
   },
   "file_extension": ".py",
   "mimetype": "text/x-python",
   "name": "python",
   "nbconvert_exporter": "python",
   "pygments_lexer": "ipython3",
   "version": "3.7.5"
  }
 },
 "nbformat": 4,
 "nbformat_minor": 4
}
